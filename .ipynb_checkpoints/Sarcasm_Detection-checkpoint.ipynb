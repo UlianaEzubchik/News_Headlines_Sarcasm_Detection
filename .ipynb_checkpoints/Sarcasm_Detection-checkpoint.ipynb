{
 "cells": [
  {
   "cell_type": "code",
   "execution_count": 1,
   "id": "4ab24edd",
   "metadata": {
    "scrolled": true
   },
   "outputs": [
    {
     "name": "stdout",
     "output_type": "stream",
     "text": [
      "WARNING:tensorflow:From C:\\Users\\ulyaa\\anaconda3\\Lib\\site-packages\\keras\\src\\losses.py:2976: The name tf.losses.sparse_softmax_cross_entropy is deprecated. Please use tf.compat.v1.losses.sparse_softmax_cross_entropy instead.\n",
      "\n"
     ]
    }
   ],
   "source": [
    "import tensorflow as tf\n",
    "import pandas as pd\n",
    "import matplotlib.pyplot as plt\n",
    "from tensorflow import keras\n",
    "from tensorflow.keras.preprocessing.text import Tokenizer\n",
    "from tensorflow.keras.preprocessing.sequence import pad_sequences\n",
    "from sklearn.model_selection import train_test_split"
   ]
  },
  {
   "cell_type": "code",
   "execution_count": 2,
   "id": "cb27478f",
   "metadata": {},
   "outputs": [],
   "source": [
    "# Define text preprocessing parameters\n",
    "vocab_size = 10000 # Vocabulary size\n",
    "embedding_dim = 16 # Dimensionality of embedding vectors\n",
    "max_length = 100 # Maximum sequence length\n",
    "trunc_type='post' # Truncation type (post)\n",
    "padding_type='post' # Padding type (post)\n",
    "oov_tok = \"<OOV>\" # Token for unknown words\n"
   ]
  },
  {
   "cell_type": "code",
   "execution_count": 3,
   "id": "7bf996b7",
   "metadata": {
    "scrolled": false
   },
   "outputs": [
    {
     "data": {
      "text/html": [
       "<div>\n",
       "<style scoped>\n",
       "    .dataframe tbody tr th:only-of-type {\n",
       "        vertical-align: middle;\n",
       "    }\n",
       "\n",
       "    .dataframe tbody tr th {\n",
       "        vertical-align: top;\n",
       "    }\n",
       "\n",
       "    .dataframe thead th {\n",
       "        text-align: right;\n",
       "    }\n",
       "</style>\n",
       "<table border=\"1\" class=\"dataframe\">\n",
       "  <thead>\n",
       "    <tr style=\"text-align: right;\">\n",
       "      <th></th>\n",
       "      <th>article_link</th>\n",
       "      <th>headline</th>\n",
       "      <th>is_sarcastic</th>\n",
       "    </tr>\n",
       "  </thead>\n",
       "  <tbody>\n",
       "    <tr>\n",
       "      <th>0</th>\n",
       "      <td>https://www.huffingtonpost.com/entry/versace-b...</td>\n",
       "      <td>former versace store clerk sues over secret 'b...</td>\n",
       "      <td>0</td>\n",
       "    </tr>\n",
       "    <tr>\n",
       "      <th>1</th>\n",
       "      <td>https://www.huffingtonpost.com/entry/roseanne-...</td>\n",
       "      <td>the 'roseanne' revival catches up to our thorn...</td>\n",
       "      <td>0</td>\n",
       "    </tr>\n",
       "    <tr>\n",
       "      <th>2</th>\n",
       "      <td>https://local.theonion.com/mom-starting-to-fea...</td>\n",
       "      <td>mom starting to fear son's web series closest ...</td>\n",
       "      <td>1</td>\n",
       "    </tr>\n",
       "    <tr>\n",
       "      <th>3</th>\n",
       "      <td>https://politics.theonion.com/boehner-just-wan...</td>\n",
       "      <td>boehner just wants wife to listen, not come up...</td>\n",
       "      <td>1</td>\n",
       "    </tr>\n",
       "    <tr>\n",
       "      <th>4</th>\n",
       "      <td>https://www.huffingtonpost.com/entry/jk-rowlin...</td>\n",
       "      <td>j.k. rowling wishes snape happy birthday in th...</td>\n",
       "      <td>0</td>\n",
       "    </tr>\n",
       "  </tbody>\n",
       "</table>\n",
       "</div>"
      ],
      "text/plain": [
       "                                        article_link  \\\n",
       "0  https://www.huffingtonpost.com/entry/versace-b...   \n",
       "1  https://www.huffingtonpost.com/entry/roseanne-...   \n",
       "2  https://local.theonion.com/mom-starting-to-fea...   \n",
       "3  https://politics.theonion.com/boehner-just-wan...   \n",
       "4  https://www.huffingtonpost.com/entry/jk-rowlin...   \n",
       "\n",
       "                                            headline  is_sarcastic  \n",
       "0  former versace store clerk sues over secret 'b...             0  \n",
       "1  the 'roseanne' revival catches up to our thorn...             0  \n",
       "2  mom starting to fear son's web series closest ...             1  \n",
       "3  boehner just wants wife to listen, not come up...             1  \n",
       "4  j.k. rowling wishes snape happy birthday in th...             0  "
      ]
     },
     "execution_count": 3,
     "metadata": {},
     "output_type": "execute_result"
    }
   ],
   "source": [
    "# Load the dataset\n",
    "df = pd.read_json('Sarcasm_Headlines_Dataset.json', lines=True)"
   ]
  },
  {
   "cell_type": "code",
   "execution_count": 4,
   "id": "db3fc3f6",
   "metadata": {},
   "outputs": [],
   "source": [
    "# Data preparation\n",
    "sentences = df['headline'] # Extract headlines\n",
    "labels = df['is_sarcastic'] # Extract labels\n",
    "urls = df['article_link'] # Extract URLs"
   ]
  },
  {
   "cell_type": "code",
   "execution_count": 5,
   "id": "151c2488",
   "metadata": {},
   "outputs": [],
   "source": [
    "# Split the data into training and testing sets\n",
    "training_sentences, testing_sentences, training_labels, testing_labels = train_test_split(sentences, labels, test_size=0.3)"
   ]
  },
  {
   "cell_type": "code",
   "execution_count": 6,
   "id": "30edfb0c",
   "metadata": {},
   "outputs": [],
   "source": [
    "# Tokenization and sequence preprocessing\n",
    "tokenizer = Tokenizer(num_words=vocab_size, oov_token=oov_tok)\n",
    "tokenizer.fit_on_texts(training_sentences)\n",
    "\n",
    "word_index = tokenizer.word_index\n",
    "\n",
    "training_sequences = tokenizer.texts_to_sequences(training_sentences)\n",
    "training_padded = pad_sequences(training_sequences, maxlen=max_length, padding=padding_type, truncating=trunc_type)\n",
    "\n",
    "testing_sequences = tokenizer.texts_to_sequences(testing_sentences)\n",
    "testing_padded = pad_sequences(testing_sequences, maxlen=max_length, padding=padding_type, truncating=trunc_type)"
   ]
  },
  {
   "cell_type": "code",
   "execution_count": 12,
   "id": "9d08278e",
   "metadata": {},
   "outputs": [],
   "source": [
    "# Build the model\n",
    "model = tf.keras.Sequential([\n",
    "    keras.layers.Embedding(vocab_size, embedding_dim, input_length=max_length),\n",
    "    keras.layers.GlobalAveragePooling1D(), \n",
    "    keras.layers.Dense(24, activation='relu'),\n",
    "    keras.layers.Dense(1, activation='sigmoid')\n",
    "])\n",
    "model.compile(loss='binary_crossentropy', optimizer='adam', metrics=['accuracy'])"
   ]
  },
  {
   "cell_type": "code",
   "execution_count": 8,
   "id": "d318959c",
   "metadata": {},
   "outputs": [
    {
     "name": "stdout",
     "output_type": "stream",
     "text": [
      "Model: \"sequential\"\n",
      "_________________________________________________________________\n",
      " Layer (type)                Output Shape              Param #   \n",
      "=================================================================\n",
      " embedding (Embedding)       (None, 100, 16)           160000    \n",
      "                                                                 \n",
      " global_average_pooling1d (  (None, 16)                0         \n",
      " GlobalAveragePooling1D)                                         \n",
      "                                                                 \n",
      " dense (Dense)               (None, 24)                408       \n",
      "                                                                 \n",
      " dense_1 (Dense)             (None, 1)                 25        \n",
      "                                                                 \n",
      "=================================================================\n",
      "Total params: 160433 (626.69 KB)\n",
      "Trainable params: 160433 (626.69 KB)\n",
      "Non-trainable params: 0 (0.00 Byte)\n",
      "_________________________________________________________________\n"
     ]
    }
   ],
   "source": [
    "model.summary()"
   ]
  },
  {
   "cell_type": "code",
   "execution_count": 9,
   "id": "7267201d",
   "metadata": {
    "scrolled": true
   },
   "outputs": [
    {
     "name": "stdout",
     "output_type": "stream",
     "text": [
      "Epoch 1/30\n",
      "WARNING:tensorflow:From C:\\Users\\ulyaa\\anaconda3\\Lib\\site-packages\\keras\\src\\utils\\tf_utils.py:492: The name tf.ragged.RaggedTensorValue is deprecated. Please use tf.compat.v1.ragged.RaggedTensorValue instead.\n",
      "\n",
      "WARNING:tensorflow:From C:\\Users\\ulyaa\\anaconda3\\Lib\\site-packages\\keras\\src\\engine\\base_layer_utils.py:384: The name tf.executing_eagerly_outside_functions is deprecated. Please use tf.compat.v1.executing_eagerly_outside_functions instead.\n",
      "\n",
      "585/585 - 8s - loss: 0.6813 - accuracy: 0.5605 - val_loss: 0.6608 - val_accuracy: 0.5922 - 8s/epoch - 13ms/step\n",
      "Epoch 2/30\n",
      "585/585 - 5s - loss: 0.5088 - accuracy: 0.7796 - val_loss: 0.4041 - val_accuracy: 0.8293 - 5s/epoch - 8ms/step\n",
      "Epoch 3/30\n",
      "585/585 - 5s - loss: 0.3361 - accuracy: 0.8619 - val_loss: 0.3545 - val_accuracy: 0.8487 - 5s/epoch - 9ms/step\n",
      "Epoch 4/30\n",
      "585/585 - 4s - loss: 0.2772 - accuracy: 0.8895 - val_loss: 0.3392 - val_accuracy: 0.8546 - 4s/epoch - 7ms/step\n",
      "Epoch 5/30\n",
      "585/585 - 4s - loss: 0.2386 - accuracy: 0.9065 - val_loss: 0.3334 - val_accuracy: 0.8582 - 4s/epoch - 8ms/step\n",
      "Epoch 6/30\n",
      "585/585 - 5s - loss: 0.2110 - accuracy: 0.9188 - val_loss: 0.3361 - val_accuracy: 0.8597 - 5s/epoch - 8ms/step\n",
      "Epoch 7/30\n",
      "585/585 - 5s - loss: 0.1867 - accuracy: 0.9285 - val_loss: 0.3461 - val_accuracy: 0.8559 - 5s/epoch - 8ms/step\n",
      "Epoch 8/30\n",
      "585/585 - 5s - loss: 0.1677 - accuracy: 0.9368 - val_loss: 0.3587 - val_accuracy: 0.8539 - 5s/epoch - 8ms/step\n",
      "Epoch 9/30\n",
      "585/585 - 5s - loss: 0.1503 - accuracy: 0.9459 - val_loss: 0.3682 - val_accuracy: 0.8549 - 5s/epoch - 8ms/step\n",
      "Epoch 10/30\n",
      "585/585 - 5s - loss: 0.1367 - accuracy: 0.9491 - val_loss: 0.3818 - val_accuracy: 0.8542 - 5s/epoch - 8ms/step\n",
      "Epoch 11/30\n",
      "585/585 - 5s - loss: 0.1238 - accuracy: 0.9552 - val_loss: 0.3990 - val_accuracy: 0.8526 - 5s/epoch - 8ms/step\n",
      "Epoch 12/30\n",
      "585/585 - 4s - loss: 0.1130 - accuracy: 0.9590 - val_loss: 0.4401 - val_accuracy: 0.8438 - 4s/epoch - 8ms/step\n",
      "Epoch 13/30\n",
      "585/585 - 5s - loss: 0.1013 - accuracy: 0.9656 - val_loss: 0.4407 - val_accuracy: 0.8490 - 5s/epoch - 8ms/step\n",
      "Epoch 14/30\n",
      "585/585 - 4s - loss: 0.0928 - accuracy: 0.9683 - val_loss: 0.4695 - val_accuracy: 0.8428 - 4s/epoch - 7ms/step\n",
      "Epoch 15/30\n",
      "585/585 - 5s - loss: 0.0840 - accuracy: 0.9725 - val_loss: 0.4917 - val_accuracy: 0.8441 - 5s/epoch - 8ms/step\n",
      "Epoch 16/30\n",
      "585/585 - 4s - loss: 0.0767 - accuracy: 0.9755 - val_loss: 0.5100 - val_accuracy: 0.8445 - 4s/epoch - 7ms/step\n",
      "Epoch 17/30\n",
      "585/585 - 5s - loss: 0.0700 - accuracy: 0.9781 - val_loss: 0.5736 - val_accuracy: 0.8349 - 5s/epoch - 9ms/step\n",
      "Epoch 18/30\n",
      "585/585 - 5s - loss: 0.0651 - accuracy: 0.9794 - val_loss: 0.5626 - val_accuracy: 0.8396 - 5s/epoch - 8ms/step\n",
      "Epoch 19/30\n",
      "585/585 - 4s - loss: 0.0596 - accuracy: 0.9823 - val_loss: 0.5923 - val_accuracy: 0.8373 - 4s/epoch - 8ms/step\n",
      "Epoch 20/30\n",
      "585/585 - 4s - loss: 0.0538 - accuracy: 0.9841 - val_loss: 0.6527 - val_accuracy: 0.8324 - 4s/epoch - 7ms/step\n",
      "Epoch 21/30\n",
      "585/585 - 4s - loss: 0.0497 - accuracy: 0.9858 - val_loss: 0.6525 - val_accuracy: 0.8310 - 4s/epoch - 7ms/step\n",
      "Epoch 22/30\n",
      "585/585 - 5s - loss: 0.0461 - accuracy: 0.9868 - val_loss: 0.6872 - val_accuracy: 0.8309 - 5s/epoch - 8ms/step\n",
      "Epoch 23/30\n",
      "585/585 - 4s - loss: 0.0421 - accuracy: 0.9881 - val_loss: 0.7095 - val_accuracy: 0.8304 - 4s/epoch - 8ms/step\n",
      "Epoch 24/30\n",
      "585/585 - 5s - loss: 0.0372 - accuracy: 0.9896 - val_loss: 0.8125 - val_accuracy: 0.8239 - 5s/epoch - 8ms/step\n",
      "Epoch 25/30\n",
      "585/585 - 4s - loss: 0.0338 - accuracy: 0.9910 - val_loss: 0.7857 - val_accuracy: 0.8273 - 4s/epoch - 8ms/step\n",
      "Epoch 26/30\n",
      "585/585 - 4s - loss: 0.0310 - accuracy: 0.9922 - val_loss: 0.8533 - val_accuracy: 0.8250 - 4s/epoch - 8ms/step\n",
      "Epoch 27/30\n",
      "585/585 - 4s - loss: 0.0300 - accuracy: 0.9913 - val_loss: 0.8817 - val_accuracy: 0.8229 - 4s/epoch - 7ms/step\n",
      "Epoch 28/30\n",
      "585/585 - 5s - loss: 0.0288 - accuracy: 0.9922 - val_loss: 0.9054 - val_accuracy: 0.8228 - 5s/epoch - 8ms/step\n",
      "Epoch 29/30\n",
      "585/585 - 5s - loss: 0.0247 - accuracy: 0.9942 - val_loss: 0.9074 - val_accuracy: 0.8233 - 5s/epoch - 8ms/step\n",
      "Epoch 30/30\n",
      "585/585 - 4s - loss: 0.0230 - accuracy: 0.9944 - val_loss: 0.9766 - val_accuracy: 0.8219 - 4s/epoch - 7ms/step\n"
     ]
    }
   ],
   "source": [
    "# Train the model\n",
    "num_epochs = 30\n",
    "history = model.fit(training_padded, training_labels, epochs=num_epochs, validation_data=(testing_padded, testing_labels), verbose=2)"
   ]
  },
  {
   "cell_type": "code",
   "execution_count": 10,
   "id": "de0e6529",
   "metadata": {},
   "outputs": [
    {
     "data": {
      "image/png": "[encoded data removed]",
      "text/plain": [
       "<Figure size 640x480 with 1 Axes>"
      ]
     },
     "metadata": {},
     "output_type": "display_data"
    },
    {
     "data": {
      "image/png": "[encoded data removed]",
      "text/plain": [
       "<Figure size 640x480 with 1 Axes>"
      ]
     },
     "metadata": {},
     "output_type": "display_data"
    }
   ],
   "source": [
    "# Visualize training results\n",
    "def plot_graphs(history, string):\n",
    "  plt.plot(history.history[string])\n",
    "  plt.plot(history.history['val_'+string])\n",
    "  plt.xlabel(\"Epochs\")\n",
    "  plt.ylabel(string)\n",
    "  plt.legend([string, 'val_'+string])\n",
    "  plt.show()\n",
    "  \n",
    "plot_graphs(history, \"accuracy\")\n",
    "plot_graphs(history, \"loss\")"
   ]
  },
  {
   "cell_type": "code",
   "execution_count": 11,
   "id": "c6e6fe7e",
   "metadata": {},
   "outputs": [
    {
     "name": "stdout",
     "output_type": "stream",
     "text": [
      "1/1 [==============================] - 0s 203ms/step\n",
      "[[0.99800247]\n",
      " [0.00146063]]\n"
     ]
    }
   ],
   "source": [
    "# Prediction on new data\n",
    "sentence = [\"granny starting to fear spiders in the garden might be real\", \"game of thrones season finale showing this sunday night\"]\n",
    "sequences = tokenizer.texts_to_sequences(sentence)\n",
    "padded = pad_sequences(sequences, maxlen=max_length, padding=padding_type, truncating=trunc_type)\n",
    "print(model.predict(padded))"
   ]
  },
  {
   "cell_type": "code",
   "execution_count": null,
   "id": "126b27e1",
   "metadata": {},
   "outputs": [],
   "source": []
  }
 ],
 "metadata": {
  "kernelspec": {
   "display_name": "Python 3 (ipykernel)",
   "language": "python",
   "name": "python3"
  },
  "language_info": {
   "codemirror_mode": {
    "name": "ipython",
    "version": 3
   },
   "file_extension": ".py",
   "mimetype": "text/x-python",
   "name": "python",
   "nbconvert_exporter": "python",
   "pygments_lexer": "ipython3",
   "version": "3.11.5"
  }
 },
 "nbformat": 4,
 "nbformat_minor": 5
}
